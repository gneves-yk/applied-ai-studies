{
 "cells": [
  {
   "cell_type": "markdown",
   "id": "539da881-6883-4f61-bd66-7329c4a55d28",
   "metadata": {},
   "source": [
    "# Rodando IA"
   ]
  },
  {
   "cell_type": "code",
   "execution_count": null,
   "id": "b420e358-e2b7-4d24-9b20-d9a86f0cfa8a",
   "metadata": {},
   "outputs": [],
   "source": [
    "from dotenv import load_dotenv\n",
    "import os\n",
    "\n",
    "load_dotenv()\n",
    "\n",
    "os.environ[\"GOOGLE_API_KEY\"] = os.getenv(\"API_KEY_GOOGLE\")\n",
    "print(os.environ[\"GOOGLE_API_KEY\"])"
   ]
  },
  {
   "cell_type": "code",
   "execution_count": null,
   "id": "61cb5f36-3d20-43bb-a398-cdd1393f1c18",
   "metadata": {},
   "outputs": [],
   "source": [
    "from google import genai\n",
    "\n",
    "client = genai.Client()\n",
    "response = client.models.generate_content(model=\"gemini-2.5-flash\", contents=\"O que é uma inteligência artificial?\")"
   ]
  },
  {
   "cell_type": "code",
   "execution_count": null,
   "id": "389182f8-dab2-4795-8051-e6a2f9b4ab69",
   "metadata": {},
   "outputs": [],
   "source": [
    "print(response.text)"
   ]
  }
 ],
 "metadata": {
  "kernelspec": {
   "display_name": "Python 3 (ipykernel)",
   "language": "python",
   "name": "python3"
  },
  "language_info": {
   "codemirror_mode": {
    "name": "ipython",
    "version": 3
   },
   "file_extension": ".py",
   "mimetype": "text/x-python",
   "name": "python",
   "nbconvert_exporter": "python",
   "pygments_lexer": "ipython3",
   "version": "3.13.5"
  }
 },
 "nbformat": 4,
 "nbformat_minor": 5
}
